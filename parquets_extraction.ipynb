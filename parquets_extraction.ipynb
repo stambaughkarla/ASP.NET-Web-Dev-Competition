{
  "nbformat": 4,
  "nbformat_minor": 0,
  "metadata": {
    "colab": {
      "provenance": [],
      "authorship_tag": "ABX9TyMa5OCeZ4xnx5L1j0F8DDKD",
      "include_colab_link": true
    },
    "kernelspec": {
      "name": "python3",
      "display_name": "Python 3"
    },
    "language_info": {
      "name": "python"
    }
  },
  "cells": [
    {
      "cell_type": "markdown",
      "metadata": {
        "id": "view-in-github",
        "colab_type": "text"
      },
      "source": [
        "<a href=\"https://colab.research.google.com/github/stambaughkarla/ASP.NET-Web-Dev-Competition/blob/main/parquets_extraction.ipynb\" target=\"_parent\"><img src=\"https://colab.research.google.com/assets/colab-badge.svg\" alt=\"Open In Colab\"/></a>"
      ]
    },
    {
      "cell_type": "code",
      "execution_count": 14,
      "metadata": {
        "id": "8PhDeXllZzYC"
      },
      "outputs": [],
      "source": [
        "import pyarrow.parquet as pq\n",
        "\n",
        "import pandas as pd\n",
        "\n",
        "parquet_file = \"/content/2021-01-01_performance_fixed_tiles.parquet\"\n",
        "\n",
        "table = pq.read_table(parquet_file)\n",
        "\n",
        "#table = table.select([1,3,5])\n",
        "\n",
        "df = table.to_pandas()\n",
        "\n",
        "max_rows = 100000\n",
        "df = df.iloc[:max_rows]\n",
        "\n",
        "df.to_excel(\"output.xlsx\", index=False)\n",
        "\n",
        "\n"
      ]
    },
    {
      "cell_type": "code",
      "source": [
        "from google.colab import auth\n",
        "from google.colab import drive\n",
        "auth.authenticate_user()\n",
        "drive.mount('/content/drive')\n",
        "\n",
        "folder_path = \"/content/output.xlsx\"\n",
        "existing_bucket_name = 'social-statisticians-global-investigation-bkt-1'\n",
        "\n",
        "!gsutil cp -r {folder_path} gs://{existing_bucket_name}/\n",
        "\n",
        "print(f\"Files uploaded to gs://{existing_bucket_name}/\")\n",
        "\n",
        "!gsutil ls gs://{existing_bucket_name}/\n"
      ],
      "metadata": {
        "colab": {
          "base_uri": "https://localhost:8080/"
        },
        "id": "PIzuj878bfIu",
        "outputId": "76526518-8f3e-4ab7-a3ea-d1f04d1a0578"
      },
      "execution_count": 15,
      "outputs": [
        {
          "output_type": "stream",
          "name": "stdout",
          "text": [
            "Drive already mounted at /content/drive; to attempt to forcibly remount, call drive.mount(\"/content/drive\", force_remount=True).\n",
            "Copying file:///content/output.xlsx [Content-Type=application/vnd.openxmlformats-officedocument.spreadsheetml.sheet]...\n",
            "- [1 files][  7.0 MiB/  7.0 MiB]                                                \n",
            "Operation completed over 1 objects/7.0 MiB.                                      \n",
            "Files uploaded to gs://social-statisticians-global-investigation-bkt-1/\n",
            "gs://social-statisticians-global-investigation-bkt-1/output.xlsx\n",
            "gs://social-statisticians-global-investigation-bkt-1/ initial-loads/\n"
          ]
        }
      ]
    }
  ]
}